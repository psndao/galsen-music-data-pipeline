{
 "cells": [
  {
   "cell_type": "markdown",
   "id": "a30f89b7",
   "metadata": {
    "notebookRunGroups": {
     "groupValue": "1"
    }
   },
   "source": [
    "## Introduction"
   ]
  },
  {
   "cell_type": "markdown",
   "id": "45155951",
   "metadata": {},
   "source": [
    "Construire un pipeline ETL complet pour récupérer les données de l'API Spotify, les tranformer avec python, les stocker dans snowflake et produire des visualisations pour analyser la popularité des artistes et des titres. \n",
    "\n",
    "Spotify est une plateforme de streaming musical et de podcasts proposant de nombreux artistes, leurs albums et titres respectifs. Chaque artiste et titre possède une cote de popularité, et cet exercice est centré sur l'analyse des facteurs qui influencent cette mesure."
   ]
  },
  {
   "cell_type": "markdown",
   "id": "e79ec431",
   "metadata": {
    "notebookRunGroups": {
     "groupValue": "1"
    }
   },
   "source": [
    "## Installation et importation des librairies"
   ]
  },
  {
   "cell_type": "code",
   "execution_count": null,
   "id": "f62c1955",
   "metadata": {},
   "outputs": [],
   "source": [
    "# import libraries\n",
    "import requests\n",
    "import numpy as np\n",
    "import pandas as pd\n",
    "import psycopg2 as ps\n",
    "import datetime\n",
    "import base64\n",
    "import time\n",
    "import os\n",
    "import json\n",
    "from dotenv import load_dotenv\n",
    "from urllib.parse import quote_plus\n",
    "from datetime import date\n",
    "import spotipy\n",
    "from spotipy.oauth2 import SpotifyClientCredentials\n",
    "import pandas as pd\n"
   ]
  },
  {
   "cell_type": "markdown",
   "id": "50e93ed5",
   "metadata": {},
   "source": [
    "## 1.Authentification à l’API Spotify"
   ]
  },
  {
   "cell_type": "code",
   "execution_count": 50,
   "id": "ea362cbd",
   "metadata": {},
   "outputs": [],
   "source": [
    "client_id=\"ffa6d8652d964d5098aab9ba0959c691\"\n",
    "client_secret=\"9bda46abe41548b18f2db456013767ca\"\n",
    "\n",
    "auth_manager = SpotifyClientCredentials(client_id=client_id, client_secret=client_secret)\n",
    "sp = spotipy.Spotify(auth_manager=auth_manager)\n"
   ]
  },
  {
   "cell_type": "markdown",
   "id": "fb0e878f",
   "metadata": {},
   "source": [
    "## 2. Fonction pour récupérer l'ID d’un artiste"
   ]
  },
  {
   "cell_type": "code",
   "execution_count": null,
   "id": "e26aba0f",
   "metadata": {},
   "outputs": [],
   "source": [
    "def get_artist_id(artist_name):\n",
    "    result = sp.search(q=artist_name, type='artist', limit=1)\n",
    "    items = result['artists']['items']\n",
    "    if items:\n",
    "        return items[0]['id'], items[0]['name']\n",
    "    return None, None"
   ]
  },
  {
   "cell_type": "markdown",
   "id": "85534c7b",
   "metadata": {},
   "source": [
    "## 3. Récupérer les top tracks d’un artiste"
   ]
  },
  {
   "cell_type": "code",
   "execution_count": null,
   "id": "6cf34c18",
   "metadata": {},
   "outputs": [],
   "source": [
    "def get_top_tracks(artist_id, artist_name):\n",
    "    results = sp.artist_top_tracks(artist_id, country='SN')  # SN = Sénégal\n",
    "    tracks = []\n",
    "\n",
    "    for track in results['tracks']:\n",
    "        tracks.append({\n",
    "            'artist_name': artist_name,\n",
    "            'track_name': track['name'],\n",
    "            'track_id': track['id'],\n",
    "            'popularity': track['popularity'],\n",
    "            'album': track['album']['name'],\n",
    "            'release_date': track['album']['release_date']\n",
    "        })\n",
    "\n",
    "    return tracks"
   ]
  },
  {
   "cell_type": "markdown",
   "id": "fda0f1c9",
   "metadata": {},
   "source": [
    "## 4. Artistes à interroger"
   ]
  },
  {
   "cell_type": "code",
   "execution_count": 53,
   "id": "f8ede3c5",
   "metadata": {},
   "outputs": [
    {
     "name": "stdout",
     "output_type": "stream",
     "text": [
      "Récupération des morceaux de : Youssou N'Dour\n",
      "Récupération des morceaux de : Baba Maal\n",
      "Récupération des morceaux de : Orchestra Baobab\n",
      "Récupération des morceaux de : Ismaël Lô\n",
      "Récupération des morceaux de : Cheikh Lô\n",
      "Récupération des morceaux de : Viviane Chidid\n",
      "Récupération des morceaux de : Waly Seck\n"
     ]
    }
   ],
   "source": [
    "artist_names = [\n",
    "    'Youssou Ndour',\n",
    "    'Baba Maal',\n",
    "    'Orchestra Baobab',\n",
    "    'Ismaila Lo',\n",
    "    'Cheikh Lo',\n",
    "    'Viviane Chidid',\n",
    "    'Waly Seck'\n",
    "]\n",
    "\n",
    "all_tracks = []\n",
    "\n",
    "for name in artist_names:\n",
    "    artist_id, artist_clean_name = get_artist_id(name)\n",
    "    if artist_id:\n",
    "        print(f'Récupération des morceaux de : {artist_clean_name}')\n",
    "        artist_tracks = get_top_tracks(artist_id, artist_clean_name)\n",
    "        all_tracks.extend(artist_tracks)\n",
    "    else:\n",
    "        print(f'Artiste non trouvé : {name}')\n"
   ]
  },
  {
   "cell_type": "code",
   "execution_count": null,
   "id": "b242ca70",
   "metadata": {},
   "outputs": [
    {
     "data": {
      "text/html": [
       "<div>\n",
       "<style scoped>\n",
       "    .dataframe tbody tr th:only-of-type {\n",
       "        vertical-align: middle;\n",
       "    }\n",
       "\n",
       "    .dataframe tbody tr th {\n",
       "        vertical-align: top;\n",
       "    }\n",
       "\n",
       "    .dataframe thead th {\n",
       "        text-align: right;\n",
       "    }\n",
       "</style>\n",
       "<table border=\"1\" class=\"dataframe\">\n",
       "  <thead>\n",
       "    <tr style=\"text-align: right;\">\n",
       "      <th></th>\n",
       "      <th>artist_name</th>\n",
       "      <th>track_name</th>\n",
       "      <th>track_id</th>\n",
       "      <th>popularity</th>\n",
       "      <th>album</th>\n",
       "      <th>release_date</th>\n",
       "    </tr>\n",
       "  </thead>\n",
       "  <tbody>\n",
       "    <tr>\n",
       "      <th>0</th>\n",
       "      <td>Youssou N'Dour</td>\n",
       "      <td>7 Seconds (feat. Neneh Cherry)</td>\n",
       "      <td>4sv1iemiMkkZVTUbV16C8L</td>\n",
       "      <td>64</td>\n",
       "      <td>The Guide (Wommat)</td>\n",
       "      <td>1994-05-16</td>\n",
       "    </tr>\n",
       "    <tr>\n",
       "      <th>1</th>\n",
       "      <td>Youssou N'Dour</td>\n",
       "      <td>Solidarité</td>\n",
       "      <td>2dDDAZPMPvlHy3FyEzX4a3</td>\n",
       "      <td>56</td>\n",
       "      <td>Lamomali</td>\n",
       "      <td>2017-04-07</td>\n",
       "    </tr>\n",
       "    <tr>\n",
       "      <th>2</th>\n",
       "      <td>Youssou N'Dour</td>\n",
       "      <td>7 Seconds - Live at Live 8, Palais de Versaill...</td>\n",
       "      <td>04AZfJPUUJ6dwY2KHnzBRE</td>\n",
       "      <td>44</td>\n",
       "      <td>Live 8 (Live, July 2005)</td>\n",
       "      <td>2019-05-28</td>\n",
       "    </tr>\n",
       "    <tr>\n",
       "      <th>3</th>\n",
       "      <td>Youssou N'Dour</td>\n",
       "      <td>L'ours</td>\n",
       "      <td>65K1cio9RsXMOGsSGMMjrN</td>\n",
       "      <td>41</td>\n",
       "      <td>Ma vie d'artiste Unplugged</td>\n",
       "      <td>2020-10-30</td>\n",
       "    </tr>\n",
       "    <tr>\n",
       "      <th>4</th>\n",
       "      <td>Youssou N'Dour</td>\n",
       "      <td>In Your Eyes</td>\n",
       "      <td>0JNrEabbksF2iVAAxyXIFS</td>\n",
       "      <td>31</td>\n",
       "      <td>Fatteliku (Live in Athens 1987)</td>\n",
       "      <td>2013</td>\n",
       "    </tr>\n",
       "  </tbody>\n",
       "</table>\n",
       "</div>"
      ],
      "text/plain": [
       "      artist_name                                         track_name  \\\n",
       "0  Youssou N'Dour                     7 Seconds (feat. Neneh Cherry)   \n",
       "1  Youssou N'Dour                                         Solidarité   \n",
       "2  Youssou N'Dour  7 Seconds - Live at Live 8, Palais de Versaill...   \n",
       "3  Youssou N'Dour                                             L'ours   \n",
       "4  Youssou N'Dour                                       In Your Eyes   \n",
       "\n",
       "                 track_id  popularity                            album  \\\n",
       "0  4sv1iemiMkkZVTUbV16C8L          64               The Guide (Wommat)   \n",
       "1  2dDDAZPMPvlHy3FyEzX4a3          56                         Lamomali   \n",
       "2  04AZfJPUUJ6dwY2KHnzBRE          44         Live 8 (Live, July 2005)   \n",
       "3  65K1cio9RsXMOGsSGMMjrN          41       Ma vie d'artiste Unplugged   \n",
       "4  0JNrEabbksF2iVAAxyXIFS          31  Fatteliku (Live in Athens 1987)   \n",
       "\n",
       "  release_date  \n",
       "0   1994-05-16  \n",
       "1   2017-04-07  \n",
       "2   2019-05-28  \n",
       "3   2020-10-30  \n",
       "4         2013  "
      ]
     },
     "execution_count": 58,
     "metadata": {},
     "output_type": "execute_result"
    }
   ],
   "source": [
    "df_tracks = pd.DataFrame(all_tracks)\n",
    "df_tracks.head()"
   ]
  },
  {
   "cell_type": "code",
   "execution_count": 71,
   "id": "28bbb586",
   "metadata": {},
   "outputs": [
    {
     "name": "stdout",
     "output_type": "stream",
     "text": [
      "<class 'pandas.core.frame.DataFrame'>\n",
      "RangeIndex: 50 entries, 0 to 49\n",
      "Data columns (total 7 columns):\n",
      " #   Column           Non-Null Count  Dtype         \n",
      "---  ------           --------------  -----         \n",
      " 0   artist_name      50 non-null     object        \n",
      " 1   track_name       50 non-null     object        \n",
      " 2   track_id         50 non-null     object        \n",
      " 3   popularity       50 non-null     int64         \n",
      " 4   album            50 non-null     object        \n",
      " 5   release_date     50 non-null     object        \n",
      " 6   extraction_date  50 non-null     datetime64[us]\n",
      "dtypes: datetime64[us](1), int64(1), object(5)\n",
      "memory usage: 2.9+ KB\n"
     ]
    }
   ],
   "source": [
    "df_tracks.info()"
   ]
  },
  {
   "cell_type": "code",
   "execution_count": null,
   "id": "05e4ff1a",
   "metadata": {},
   "outputs": [],
   "source": [
    "# date d'extraction \n",
    "df_tracks['extraction_date'] = datetime.now()\n",
    "# on onvertit en string \n",
    "df_tracks['extraction_date'] = df_tracks['extraction_date'].dt.strftime('%Y-%m-%d %H:%M:%S')"
   ]
  },
  {
   "cell_type": "code",
   "execution_count": 73,
   "id": "037fc8c2",
   "metadata": {},
   "outputs": [
    {
     "data": {
      "text/html": [
       "<div>\n",
       "<style scoped>\n",
       "    .dataframe tbody tr th:only-of-type {\n",
       "        vertical-align: middle;\n",
       "    }\n",
       "\n",
       "    .dataframe tbody tr th {\n",
       "        vertical-align: top;\n",
       "    }\n",
       "\n",
       "    .dataframe thead th {\n",
       "        text-align: right;\n",
       "    }\n",
       "</style>\n",
       "<table border=\"1\" class=\"dataframe\">\n",
       "  <thead>\n",
       "    <tr style=\"text-align: right;\">\n",
       "      <th></th>\n",
       "      <th>artist_name</th>\n",
       "      <th>track_name</th>\n",
       "      <th>track_id</th>\n",
       "      <th>popularity</th>\n",
       "      <th>album</th>\n",
       "      <th>release_date</th>\n",
       "      <th>extraction_date</th>\n",
       "    </tr>\n",
       "  </thead>\n",
       "  <tbody>\n",
       "    <tr>\n",
       "      <th>0</th>\n",
       "      <td>Youssou N'Dour</td>\n",
       "      <td>7 Seconds (feat. Neneh Cherry)</td>\n",
       "      <td>4sv1iemiMkkZVTUbV16C8L</td>\n",
       "      <td>64</td>\n",
       "      <td>The Guide (Wommat)</td>\n",
       "      <td>1994-05-16</td>\n",
       "      <td>2025-04-21 00:39:57</td>\n",
       "    </tr>\n",
       "    <tr>\n",
       "      <th>1</th>\n",
       "      <td>Youssou N'Dour</td>\n",
       "      <td>Solidarité</td>\n",
       "      <td>2dDDAZPMPvlHy3FyEzX4a3</td>\n",
       "      <td>56</td>\n",
       "      <td>Lamomali</td>\n",
       "      <td>2017-04-07</td>\n",
       "      <td>2025-04-21 00:39:57</td>\n",
       "    </tr>\n",
       "    <tr>\n",
       "      <th>2</th>\n",
       "      <td>Youssou N'Dour</td>\n",
       "      <td>7 Seconds - Live at Live 8, Palais de Versaill...</td>\n",
       "      <td>04AZfJPUUJ6dwY2KHnzBRE</td>\n",
       "      <td>44</td>\n",
       "      <td>Live 8 (Live, July 2005)</td>\n",
       "      <td>2019-05-28</td>\n",
       "      <td>2025-04-21 00:39:57</td>\n",
       "    </tr>\n",
       "    <tr>\n",
       "      <th>3</th>\n",
       "      <td>Youssou N'Dour</td>\n",
       "      <td>L'ours</td>\n",
       "      <td>65K1cio9RsXMOGsSGMMjrN</td>\n",
       "      <td>41</td>\n",
       "      <td>Ma vie d'artiste Unplugged</td>\n",
       "      <td>2020-10-30</td>\n",
       "      <td>2025-04-21 00:39:57</td>\n",
       "    </tr>\n",
       "    <tr>\n",
       "      <th>4</th>\n",
       "      <td>Youssou N'Dour</td>\n",
       "      <td>In Your Eyes</td>\n",
       "      <td>0JNrEabbksF2iVAAxyXIFS</td>\n",
       "      <td>31</td>\n",
       "      <td>Fatteliku (Live in Athens 1987)</td>\n",
       "      <td>2013</td>\n",
       "      <td>2025-04-21 00:39:57</td>\n",
       "    </tr>\n",
       "  </tbody>\n",
       "</table>\n",
       "</div>"
      ],
      "text/plain": [
       "      artist_name                                         track_name  \\\n",
       "0  Youssou N'Dour                     7 Seconds (feat. Neneh Cherry)   \n",
       "1  Youssou N'Dour                                         Solidarité   \n",
       "2  Youssou N'Dour  7 Seconds - Live at Live 8, Palais de Versaill...   \n",
       "3  Youssou N'Dour                                             L'ours   \n",
       "4  Youssou N'Dour                                       In Your Eyes   \n",
       "\n",
       "                 track_id  popularity                            album  \\\n",
       "0  4sv1iemiMkkZVTUbV16C8L          64               The Guide (Wommat)   \n",
       "1  2dDDAZPMPvlHy3FyEzX4a3          56                         Lamomali   \n",
       "2  04AZfJPUUJ6dwY2KHnzBRE          44         Live 8 (Live, July 2005)   \n",
       "3  65K1cio9RsXMOGsSGMMjrN          41       Ma vie d'artiste Unplugged   \n",
       "4  0JNrEabbksF2iVAAxyXIFS          31  Fatteliku (Live in Athens 1987)   \n",
       "\n",
       "  release_date      extraction_date  \n",
       "0   1994-05-16  2025-04-21 00:39:57  \n",
       "1   2017-04-07  2025-04-21 00:39:57  \n",
       "2   2019-05-28  2025-04-21 00:39:57  \n",
       "3   2020-10-30  2025-04-21 00:39:57  \n",
       "4         2013  2025-04-21 00:39:57  "
      ]
     },
     "execution_count": 73,
     "metadata": {},
     "output_type": "execute_result"
    }
   ],
   "source": [
    "df_tracks.head()"
   ]
  },
  {
   "cell_type": "code",
   "execution_count": null,
   "id": "35a2b7b8",
   "metadata": {},
   "outputs": [],
   "source": []
  },
  {
   "cell_type": "markdown",
   "id": "008ee472",
   "metadata": {},
   "source": [
    "## 5.Load data into Snowflake"
   ]
  },
  {
   "cell_type": "code",
   "execution_count": null,
   "id": "4d35788f",
   "metadata": {},
   "outputs": [],
   "source": [
    "import snowflake.connector\n",
    "\n",
    "conn = snowflake.connector.connect(\n",
    "    user='PSNDAO',\n",
    "    password='XXXXXXXXXXXXXX',  \n",
    "    account='SBHEXGP-SS86939',\n",
    "    warehouse='COMPUTE_WH',    \n",
    "    database='GALSEN_PLAYLIST',\n",
    "    schema='DATA_SPOTIFY',        \n",
    "    role='ACCOUNTADMIN'\n",
    ")\n",
    "\n",
    "cursor = conn.cursor()\n"
   ]
  },
  {
   "cell_type": "code",
   "execution_count": 75,
   "id": "04d0409b",
   "metadata": {},
   "outputs": [],
   "source": [
    "# Préparation de la requête SQL\n",
    "insert_sql = \"\"\"\n",
    "    INSERT INTO SPOTIFY_TOP_TRACKS (\n",
    "        ARTIST_NAME, TRACK_NAME, TRACK_ID, POPULARITY, ALBUM, RELEASE_DATE, EXTRACTION_DATE\n",
    "    ) VALUES (%s, %s, %s, %s, %s, %s, %s)\n",
    "\"\"\""
   ]
  },
  {
   "cell_type": "code",
   "execution_count": null,
   "id": "b96ba991",
   "metadata": {},
   "outputs": [],
   "source": [
    "# Chargement ligne par ligne\n",
    "for _, row in df_tracks.iterrows():\n",
    "    cursor.execute(insert_sql, (\n",
    "        row['artist_name'],\n",
    "        row['track_name'],\n",
    "        row['track_id'],\n",
    "        int(row['popularity']),\n",
    "        row['album'],\n",
    "        row['release_date'],\n",
    "        row['extraction_date']  \n",
    "    ))\n",
    "\n",
    "\n",
    "conn.commit()\n",
    "cursor.close()\n",
    "conn.close()"
   ]
  }
 ],
 "metadata": {
  "kernelspec": {
   "display_name": "Python 3",
   "language": "python",
   "name": "python3"
  },
  "language_info": {
   "codemirror_mode": {
    "name": "ipython",
    "version": 3
   },
   "file_extension": ".py",
   "mimetype": "text/x-python",
   "name": "python",
   "nbconvert_exporter": "python",
   "pygments_lexer": "ipython3",
   "version": "3.12.7"
  }
 },
 "nbformat": 4,
 "nbformat_minor": 5
}
